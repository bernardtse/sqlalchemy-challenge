{
 "cells": [
  {
   "cell_type": "code",
   "execution_count": 1,
   "metadata": {},
   "outputs": [],
   "source": [
    "%matplotlib inline\n",
    "from matplotlib import style\n",
    "style.use('fivethirtyeight')\n",
    "import matplotlib.pyplot as plt"
   ]
  },
  {
   "cell_type": "code",
   "execution_count": 2,
   "metadata": {},
   "outputs": [],
   "source": [
    "import numpy as np\n",
    "import pandas as pd\n",
    "import datetime as dt"
   ]
  },
  {
   "cell_type": "markdown",
   "metadata": {},
   "source": [
    "# Reflect Tables into SQLAlchemy ORM"
   ]
  },
  {
   "cell_type": "code",
   "execution_count": 3,
   "metadata": {},
   "outputs": [],
   "source": [
    "# Python SQL toolkit and Object Relational Mapper\n",
    "import sqlalchemy\n",
    "from sqlalchemy.ext.automap import automap_base\n",
    "from sqlalchemy.orm import Session\n",
    "from sqlalchemy import create_engine, func"
   ]
  },
  {
   "cell_type": "code",
   "execution_count": 4,
   "metadata": {},
   "outputs": [],
   "source": [
    "# create engine to hawaii.sqlite\n",
    "engine = create_engine(\"sqlite:///resources/hawaii.sqlite\")"
   ]
  },
  {
   "cell_type": "code",
   "execution_count": 5,
   "metadata": {},
   "outputs": [],
   "source": [
    "# reflect an existing database into a new model\n",
    "Base = automap_base()\n",
    "# reflect the tables\n",
    "Base.prepare(autoload_with=engine)"
   ]
  },
  {
   "cell_type": "code",
   "execution_count": 6,
   "metadata": {},
   "outputs": [
    {
     "data": {
      "text/plain": [
       "['measurement', 'station']"
      ]
     },
     "execution_count": 6,
     "metadata": {},
     "output_type": "execute_result"
    }
   ],
   "source": [
    "# View all of the classes that automap found\n",
    "Base.classes.keys()"
   ]
  },
  {
   "cell_type": "code",
   "execution_count": 7,
   "metadata": {},
   "outputs": [],
   "source": [
    "# Save references to each table\n",
    "station = Base.classes.station\n",
    "measurement = Base.classes.measurement"
   ]
  },
  {
   "cell_type": "code",
   "execution_count": 8,
   "metadata": {},
   "outputs": [],
   "source": [
    "# Create our session (link) from Python to the DB\n",
    "session = Session(engine)"
   ]
  },
  {
   "cell_type": "markdown",
   "metadata": {},
   "source": [
    "# Exploratory Precipitation Analysis"
   ]
  },
  {
   "cell_type": "code",
   "execution_count": 9,
   "metadata": {},
   "outputs": [
    {
     "name": "stdout",
     "output_type": "stream",
     "text": [
      "station\n",
      "id INTEGER\n",
      "station TEXT\n",
      "name TEXT\n",
      "latitude FLOAT\n",
      "longitude FLOAT\n",
      "elevation FLOAT\n",
      "\n",
      "measurement\n",
      "id INTEGER\n",
      "station TEXT\n",
      "date TEXT\n",
      "prcp FLOAT\n",
      "tobs FLOAT\n"
     ]
    }
   ],
   "source": [
    "# Extra: Inspection for \"Date\"\n",
    "\n",
    "from sqlalchemy import inspect\n",
    "inspector = inspect(engine)\n",
    "\n",
    "columns = inspector.get_columns('station')\n",
    "print(\"station\")\n",
    "for column in columns:\n",
    "    print(column[\"name\"], column[\"type\"])\n",
    "\n",
    "print()\n",
    "\n",
    "columns = inspector.get_columns('measurement')\n",
    "print(\"measurement\")\n",
    "for column in columns:\n",
    "    print(column[\"name\"], column[\"type\"])"
   ]
  },
  {
   "cell_type": "code",
   "execution_count": 10,
   "metadata": {},
   "outputs": [
    {
     "data": {
      "text/plain": [
       "('2017-08-23',)"
      ]
     },
     "execution_count": 10,
     "metadata": {},
     "output_type": "execute_result"
    }
   ],
   "source": [
    "# Find the most recent date in the data set.\n",
    "session.query(measurement.date).order_by(measurement.date.desc()).first()"
   ]
  },
  {
   "cell_type": "code",
   "execution_count": 11,
   "metadata": {},
   "outputs": [
    {
     "data": {
      "image/png": "[encoded data removed]",
      "text/plain": [
       "<Figure size 640x480 with 1 Axes>"
      ]
     },
     "metadata": {},
     "output_type": "display_data"
    }
   ],
   "source": [
    "# Design a query to retrieve the last 12 months of precipitation data and plot the results. \n",
    "# Starting from the most recent data point in the database. \n",
    "most_recent_date = session.query(measurement.date).order_by(measurement.date.desc()).first()[0]\n",
    "most_recent_date_dt = dt.datetime.strptime(most_recent_date, '%Y-%m-%d')\n",
    "\n",
    "# Calculate the date one year from the last date in data set.\n",
    "one_year_before_mrd_dt = most_recent_date_dt - dt.timedelta(days = 365)\n",
    "one_year_before = dt.datetime.strftime(one_year_before_mrd_dt, '%Y-%m-%d')\n",
    "\n",
    "# Perform a query to retrieve the data and precipitation scores\n",
    "# Note: measurement.prcp must not be empty\n",
    "query_one_year = session.query(measurement.date, measurement.prcp).\\\n",
    "                filter(measurement.date >= one_year_before).\\\n",
    "                filter(measurement.prcp !='').\\\n",
    "                order_by(measurement.date.desc()).all()\n",
    "\n",
    "# Save the query results as a Pandas DataFrame. Explicitly set the column names\n",
    "results_df = pd.DataFrame(query_one_year, columns=['date', 'precipitation'])\n",
    "\n",
    "# Sort the dataframe by date\n",
    "results_df = results_df.sort_values(by = 'date')\n",
    "results_df = results_df.set_index('date')\n",
    "\n",
    "# Use Pandas Plotting with Matplotlib to plot the data\n",
    "\n",
    "# set xticks\n",
    "xticks = [0]\n",
    "for i in range(1,5):\n",
    "    xticks.append(int(len(results_df)*i/4-1))\n",
    "\n",
    "results_df.plot.bar(width=25, xlabel = \"Date\", ylabel = \"Inches\")\n",
    "plt.xticks(xticks)\n",
    "plt.show()"
   ]
  },
  {
   "cell_type": "code",
   "execution_count": 12,
   "metadata": {},
   "outputs": [
    {
     "data": {
      "text/html": [
       "<div>\n",
       "<style scoped>\n",
       "    .dataframe tbody tr th:only-of-type {\n",
       "        vertical-align: middle;\n",
       "    }\n",
       "\n",
       "    .dataframe tbody tr th {\n",
       "        vertical-align: top;\n",
       "    }\n",
       "\n",
       "    .dataframe thead th {\n",
       "        text-align: right;\n",
       "    }\n",
       "</style>\n",
       "<table border=\"1\" class=\"dataframe\">\n",
       "  <thead>\n",
       "    <tr style=\"text-align: right;\">\n",
       "      <th></th>\n",
       "      <th>precipitation</th>\n",
       "    </tr>\n",
       "  </thead>\n",
       "  <tbody>\n",
       "    <tr>\n",
       "      <th>count</th>\n",
       "      <td>2021.000000</td>\n",
       "    </tr>\n",
       "    <tr>\n",
       "      <th>mean</th>\n",
       "      <td>0.177279</td>\n",
       "    </tr>\n",
       "    <tr>\n",
       "      <th>std</th>\n",
       "      <td>0.461190</td>\n",
       "    </tr>\n",
       "    <tr>\n",
       "      <th>min</th>\n",
       "      <td>0.000000</td>\n",
       "    </tr>\n",
       "    <tr>\n",
       "      <th>25%</th>\n",
       "      <td>0.000000</td>\n",
       "    </tr>\n",
       "    <tr>\n",
       "      <th>50%</th>\n",
       "      <td>0.020000</td>\n",
       "    </tr>\n",
       "    <tr>\n",
       "      <th>75%</th>\n",
       "      <td>0.130000</td>\n",
       "    </tr>\n",
       "    <tr>\n",
       "      <th>max</th>\n",
       "      <td>6.700000</td>\n",
       "    </tr>\n",
       "  </tbody>\n",
       "</table>\n",
       "</div>"
      ],
      "text/plain": [
       "       precipitation\n",
       "count    2021.000000\n",
       "mean        0.177279\n",
       "std         0.461190\n",
       "min         0.000000\n",
       "25%         0.000000\n",
       "50%         0.020000\n",
       "75%         0.130000\n",
       "max         6.700000"
      ]
     },
     "execution_count": 12,
     "metadata": {},
     "output_type": "execute_result"
    }
   ],
   "source": [
    "# Use Pandas to calculate the summary statistics for the precipitation data\n",
    "\n",
    "# Simple aggregation code can't be used because .agg don't support the calculation of quartiles\n",
    "# find out count, mean, std, min, 25%, median, 75%, max\n",
    "\n",
    "quartiles = results_df[\"precipitation\"].quantile([.25,.5,.75])\n",
    "\n",
    "lowerq = quartiles[0.25]\n",
    "upperq = quartiles[0.75]\n",
    "\n",
    "\n",
    "count = results_df[\"precipitation\"].count()\n",
    "mean = results_df[\"precipitation\"].mean()\n",
    "std = results_df[\"precipitation\"].std()\n",
    "min = results_df[\"precipitation\"].min()\n",
    "lq = quartiles[0.25]\n",
    "median = quartiles[0.5]\n",
    "uq = quartiles[0.75]\n",
    "max = results_df[\"precipitation\"].max()\n",
    "\n",
    "# Set dataframe using dictionary\n",
    "indexes = [\"count\", \"mean\", \"std\", \"min\", \"25%\", \"50%\", \"75%\", \"max\"]\n",
    "precipitation = [count, mean, std, min, lq, median, uq, max]\n",
    "\n",
    "prcp_stats = {\n",
    "            \"indexes\": indexes,\n",
    "            \"precipitation\": precipitation\n",
    "            }\n",
    "prcp_stats_df = pd.DataFrame(prcp_stats).set_index(\"indexes\")\n",
    "prcp_stats_df.index.name = None\n",
    "prcp_stats_df\n"
   ]
  },
  {
   "cell_type": "markdown",
   "metadata": {},
   "source": [
    "# Exploratory Station Analysis"
   ]
  },
  {
   "cell_type": "code",
   "execution_count": 13,
   "metadata": {},
   "outputs": [
    {
     "name": "stdout",
     "output_type": "stream",
     "text": [
      "[(9,)]\n",
      "[(9,)]\n",
      "9\n",
      "9\n"
     ]
    }
   ],
   "source": [
    "# Design a query to calculate the total number of stations in the dataset\n",
    "\n",
    "# Method 1 (Counting directly from station.station, returns a list) (most preferred)\n",
    "sel = [func.count(station.station)]\n",
    "station_count = session.query(*sel).all()\n",
    "print(station_count)\n",
    "\n",
    "# Method 2 (Counting distinct values from measurement.station, returns a list)\n",
    "sel = [func.count(measurement.station.distinct())]\n",
    "station_count = session.query(*sel).all()\n",
    "print(station_count)\n",
    "\n",
    "# Method 3 (Counting from station.station using group_by, returns an integer) (not preferred)\n",
    "station_count = session.query(station).group_by(station.station).count()\n",
    "print(station_count)\n",
    "\n",
    "# Method 4 (Counting values from measurement.station using group_by, returns an integer) (not preferred)\n",
    "station_count = session.query(measurement).group_by(measurement.station).count()\n",
    "print(station_count)"
   ]
  },
  {
   "cell_type": "code",
   "execution_count": 14,
   "metadata": {},
   "outputs": [
    {
     "name": "stdout",
     "output_type": "stream",
     "text": [
      "[('USC00519281', 2772),\n",
      " ('USC00519397', 2724),\n",
      " ('USC00513117', 2709),\n",
      " ('USC00519523', 2669),\n",
      " ('USC00516128', 2612),\n",
      " ('USC00514830', 2202),\n",
      " ('USC00511918', 1979),\n",
      " ('USC00517948', 1372),\n",
      " ('USC00518838', 511)]\n"
     ]
    }
   ],
   "source": [
    "# Design a query to find the most active stations (i.e. which stations have the most rows?)\n",
    "# List the stations and their counts in descending order.\n",
    "\n",
    "sel = [measurement.station, func.count(measurement.id)]\n",
    "station_count = session.query(*sel).\\\n",
    "                        group_by(measurement.station).\\\n",
    "                        order_by(func.count(measurement.id).desc()).all()\n",
    "from pprint import pprint\n",
    "pprint(station_count)"
   ]
  },
  {
   "cell_type": "code",
   "execution_count": 15,
   "metadata": {},
   "outputs": [
    {
     "name": "stdout",
     "output_type": "stream",
     "text": [
      "[(54.0, 85.0, 71.66378066378067)]\n"
     ]
    }
   ],
   "source": [
    "# Using the most active station id from the previous query, calculate the lowest, highest, and average temperature.\n",
    "# Find out the most active station\n",
    "most_active_station = session.query(measurement.station).\\\n",
    "                                    group_by(measurement.station).\\\n",
    "                                    order_by(func.count(measurement.id).desc()).first()[0]\n",
    "\n",
    "# make a query\n",
    "sel = [func.min(measurement.tobs),func.max(measurement.tobs),func.avg(measurement.tobs)]\n",
    "temperature_stats = session.query(*sel).\\\n",
    "                                filter(measurement.station == most_active_station).all()\n",
    "print(temperature_stats)"
   ]
  },
  {
   "cell_type": "code",
   "execution_count": 16,
   "metadata": {},
   "outputs": [
    {
     "data": {
      "image/png": "[encoded data removed]",
      "text/plain": [
       "<Figure size 640x480 with 1 Axes>"
      ]
     },
     "metadata": {},
     "output_type": "display_data"
    }
   ],
   "source": [
    "# Using the most active station id\n",
    "# Query the last 12 months of temperature observation data for this station and plot the results as a histogram\n",
    "\n",
    "\n",
    "### Disabled: repeated code\n",
    "# most_recent_date = session.query(measurement.date).order_by(measurement.date.desc()).first()[0]\n",
    "# most_recent_date_dt = dt.datetime.strptime(most_recent_date, '%Y-%m-%d')\n",
    "\n",
    "# one_year_before_mrd_dt = most_recent_date_dt - dt.timedelta(days = 365)\n",
    "# one_year_before = dt.datetime.strftime(one_year_before_mrd_dt, '%Y-%m-%d')\n",
    "### Disabled: repeated code\n",
    "\n",
    "# Make a query.\n",
    "# measurement.tobs must not be empty.\n",
    "\n",
    "temp_mas = session.query(measurement.tobs).\\\n",
    "                        filter(measurement.station == most_active_station).\\\n",
    "                        filter(measurement.date >= one_year_before).\\\n",
    "                        filter(measurement.tobs !='').\\\n",
    "                        order_by(measurement.date.desc()).all()\n",
    "\n",
    "# convert the query to a list\n",
    "temp_mas_list = []\n",
    "for i in temp_mas:\n",
    "    temp_mas_list.append(i[0])\n",
    "\n",
    "# plot a histogram\n",
    "plt.hist(temp_mas_list, bins = 12)\n",
    "plt.xlabel(\"Temperature\")\n",
    "plt.ylabel(\"Frequency\")\n",
    "plt.legend((\"tobs\",))\n",
    "plt.show()\n"
   ]
  },
  {
   "cell_type": "markdown",
   "metadata": {},
   "source": [
    "# Close Session"
   ]
  },
  {
   "cell_type": "code",
   "execution_count": 17,
   "metadata": {},
   "outputs": [],
   "source": [
    "# Close Session\n",
    "session.close()"
   ]
  },
  {
   "cell_type": "code",
   "execution_count": null,
   "metadata": {},
   "outputs": [],
   "source": []
  }
 ],
 "metadata": {
  "anaconda-cloud": {},
  "kernel_info": {
   "name": "python3"
  },
  "kernelspec": {
   "display_name": "Python 3 (ipykernel)",
   "language": "python",
   "name": "python3"
  },
  "language_info": {
   "codemirror_mode": {
    "name": "ipython",
    "version": 3
   },
   "file_extension": ".py",
   "mimetype": "text/x-python",
   "name": "python",
   "nbconvert_exporter": "python",
   "pygments_lexer": "ipython3",
   "version": "3.10.12"
  },
  "nteract": {
   "version": "0.12.3"
  },
  "varInspector": {
   "cols": {
    "lenName": 16,
    "lenType": 16,
    "lenVar": 40
   },
   "kernels_config": {
    "python": {
     "delete_cmd_postfix": "",
     "delete_cmd_prefix": "del ",
     "library": "var_list.py",
     "varRefreshCmd": "print(var_dic_list())"
    },
    "r": {
     "delete_cmd_postfix": ") ",
     "delete_cmd_prefix": "rm(",
     "library": "var_list.r",
     "varRefreshCmd": "cat(var_dic_list()) "
    }
   },
   "types_to_exclude": [
    "module",
    "function",
    "builtin_function_or_method",
    "instance",
    "_Feature"
   ],
   "window_display": false
  }
 },
 "nbformat": 4,
 "nbformat_minor": 4
}
